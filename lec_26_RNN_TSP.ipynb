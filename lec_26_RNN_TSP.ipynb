{
 "cells": [
  {
   "cell_type": "markdown",
   "metadata": {},
   "source": [
    "# Time Series Forecasting"
   ]
  },
  {
   "cell_type": "code",
   "execution_count": 1,
   "metadata": {},
   "outputs": [],
   "source": [
    "import numpy as np\n",
    "\n",
    "import matplotlib.pyplot as plt\n",
    "%matplotlib inline\n",
    "\n",
    "import pandas as pd\n",
    "\n",
    "import tensorflow as tf\n",
    "from tensorflow import keras"
   ]
  },
  {
   "cell_type": "code",
   "execution_count": 2,
   "metadata": {},
   "outputs": [],
   "source": [
    "def createDelayedColumns(series, times):\n",
    "    cols = []\n",
    "    column_index = []\n",
    "    for time in times:\n",
    "        cols.append(series.shift(-time))\n",
    "        lag_fmt = \"t+{time}\" if time > 0 else \"t{time}\" if time < 0 else \"t\"\n",
    "        column_index += [(lag_fmt.format(time=time), col_name)\n",
    "                        for col_name in series.columns]\n",
    "    df = pd.concat(cols, axis=1)\n",
    "    df.columns = pd.MultiIndex.from_tuples(column_index)\n",
    "    return df\n",
    "\n",
    "def convert3D(df):\n",
    "    shape = [-1] + [len(level) for level in df.columns.remove_unused_levels().levels]\n",
    "    return df.values.reshape(shape)\n",
    "\n",
    "def plot_predictions(*named_predictions, start=None, end=None, **kwargs):\n",
    "    day_range = slice(start, end)\n",
    "    plt.figure(figsize=(10,5))\n",
    "    for name, y_pred in named_predictions:\n",
    "        if hasattr(y_pred, \"values\"):\n",
    "            y_pred = y_pred.values\n",
    "        plt.plot(y_pred[day_range], label=name, **kwargs)\n",
    "    plt.legend()\n",
    "    plt.show()\n",
    "    \n",
    "def plot_history(history, loss=\"loss\"):\n",
    "    train_losses = history.history[loss]\n",
    "    valid_losses = history.history[\"val_\" + loss]\n",
    "    n_epochs = len(history.epoch)\n",
    "    minloss = np.min(valid_losses)\n",
    "    \n",
    "    plt.plot(train_losses, color=\"b\", label=\"Train\")\n",
    "    plt.plot(valid_losses, color=\"r\", label=\"Validation\")\n",
    "    plt.plot([0, n_epochs], [minloss, minloss], \"k--\",\n",
    "             label=\"Min val: {:.2f}\".format(minloss))\n",
    "    plt.axis([0, n_epochs, 0, 20])\n",
    "    plt.legend()\n",
    "    plt.show()\n"
   ]
  },
  {
   "cell_type": "markdown",
   "metadata": {},
   "source": [
    "### Daily minimum temperatures in Melbourne from 1981 to 1990 "
   ]
  },
  {
   "cell_type": "code",
   "execution_count": 3,
   "metadata": {},
   "outputs": [],
   "source": [
    "dailyTemps = pd.read_csv(\"data/daily-minimum-temperatures.csv\", \n",
    "                        parse_dates=[0], index_col=[0])"
   ]
  },
  {
   "cell_type": "code",
   "execution_count": 4,
   "metadata": {
    "scrolled": true
   },
   "outputs": [
    {
     "data": {
      "text/html": [
       "<div>\n",
       "<style scoped>\n",
       "    .dataframe tbody tr th:only-of-type {\n",
       "        vertical-align: middle;\n",
       "    }\n",
       "\n",
       "    .dataframe tbody tr th {\n",
       "        vertical-align: top;\n",
       "    }\n",
       "\n",
       "    .dataframe thead th {\n",
       "        text-align: right;\n",
       "    }\n",
       "</style>\n",
       "<table border=\"1\" class=\"dataframe\">\n",
       "  <thead>\n",
       "    <tr style=\"text-align: right;\">\n",
       "      <th></th>\n",
       "      <th>Temperature</th>\n",
       "    </tr>\n",
       "    <tr>\n",
       "      <th>Date</th>\n",
       "      <th></th>\n",
       "    </tr>\n",
       "  </thead>\n",
       "  <tbody>\n",
       "    <tr>\n",
       "      <th>1981-01-01</th>\n",
       "      <td>20.7</td>\n",
       "    </tr>\n",
       "    <tr>\n",
       "      <th>1981-01-02</th>\n",
       "      <td>17.9</td>\n",
       "    </tr>\n",
       "    <tr>\n",
       "      <th>1981-01-03</th>\n",
       "      <td>18.8</td>\n",
       "    </tr>\n",
       "    <tr>\n",
       "      <th>1981-01-04</th>\n",
       "      <td>14.6</td>\n",
       "    </tr>\n",
       "    <tr>\n",
       "      <th>1981-01-05</th>\n",
       "      <td>15.8</td>\n",
       "    </tr>\n",
       "  </tbody>\n",
       "</table>\n",
       "</div>"
      ],
      "text/plain": [
       "            Temperature\n",
       "Date                   \n",
       "1981-01-01         20.7\n",
       "1981-01-02         17.9\n",
       "1981-01-03         18.8\n",
       "1981-01-04         14.6\n",
       "1981-01-05         15.8"
      ]
     },
     "execution_count": 4,
     "metadata": {},
     "output_type": "execute_result"
    }
   ],
   "source": [
    "dailyTemps.head()"
   ]
  },
  {
   "cell_type": "code",
   "execution_count": 5,
   "metadata": {},
   "outputs": [
    {
     "data": {
      "text/html": [
       "<div>\n",
       "<style scoped>\n",
       "    .dataframe tbody tr th:only-of-type {\n",
       "        vertical-align: middle;\n",
       "    }\n",
       "\n",
       "    .dataframe tbody tr th {\n",
       "        vertical-align: top;\n",
       "    }\n",
       "\n",
       "    .dataframe thead th {\n",
       "        text-align: right;\n",
       "    }\n",
       "</style>\n",
       "<table border=\"1\" class=\"dataframe\">\n",
       "  <thead>\n",
       "    <tr style=\"text-align: right;\">\n",
       "      <th></th>\n",
       "      <th>Temperature</th>\n",
       "    </tr>\n",
       "    <tr>\n",
       "      <th>Date</th>\n",
       "      <th></th>\n",
       "    </tr>\n",
       "  </thead>\n",
       "  <tbody>\n",
       "    <tr>\n",
       "      <th>1990-12-27</th>\n",
       "      <td>14.0</td>\n",
       "    </tr>\n",
       "    <tr>\n",
       "      <th>1990-12-28</th>\n",
       "      <td>13.6</td>\n",
       "    </tr>\n",
       "    <tr>\n",
       "      <th>1990-12-29</th>\n",
       "      <td>13.5</td>\n",
       "    </tr>\n",
       "    <tr>\n",
       "      <th>1990-12-30</th>\n",
       "      <td>15.7</td>\n",
       "    </tr>\n",
       "    <tr>\n",
       "      <th>1990-12-31</th>\n",
       "      <td>13.0</td>\n",
       "    </tr>\n",
       "  </tbody>\n",
       "</table>\n",
       "</div>"
      ],
      "text/plain": [
       "            Temperature\n",
       "Date                   \n",
       "1990-12-27         14.0\n",
       "1990-12-28         13.6\n",
       "1990-12-29         13.5\n",
       "1990-12-30         15.7\n",
       "1990-12-31         13.0"
      ]
     },
     "execution_count": 5,
     "metadata": {},
     "output_type": "execute_result"
    }
   ],
   "source": [
    "dailyTemps.tail()"
   ]
  },
  {
   "cell_type": "code",
   "execution_count": 6,
   "metadata": {
    "scrolled": true
   },
   "outputs": [
    {
     "name": "stdout",
     "output_type": "stream",
     "text": [
      "<class 'pandas.core.frame.DataFrame'>\n",
      "DatetimeIndex: 3650 entries, 1981-01-01 to 1990-12-31\n",
      "Data columns (total 1 columns):\n",
      "Temperature    3650 non-null float64\n",
      "dtypes: float64(1)\n",
      "memory usage: 57.0 KB\n",
      "None\n"
     ]
    }
   ],
   "source": [
    "print(dailyTemps.info())"
   ]
  },
  {
   "cell_type": "code",
   "execution_count": 7,
   "metadata": {},
   "outputs": [
    {
     "data": {
      "image/png": "[encoded data removed]",
      "text/plain": [
       "<Figure size 864x576 with 1 Axes>"
      ]
     },
     "metadata": {
      "needs_background": "light"
     },
     "output_type": "display_data"
    }
   ],
   "source": [
    "dailyTemps.plot(figsize=(12,8))\n",
    "plt.savefig(\"f1.png\", format='png', dpi=300)\n",
    "plt.tight_layout()\n",
    "plt.show()"
   ]
  },
  {
   "cell_type": "markdown",
   "metadata": {},
   "source": [
    "### Based on previous 7 days minimum temperature, predict the minimum temperature after two days"
   ]
  },
  {
   "cell_type": "code",
   "execution_count": 8,
   "metadata": {},
   "outputs": [],
   "source": [
    "previousDays = 15\n",
    "afterDays = 2\n",
    "\n",
    "X = createDelayedColumns(dailyTemps, times=range(-previousDays+1,1)).iloc[previousDays:-afterDays]\n",
    "y = createDelayedColumns(dailyTemps, times=[afterDays]).iloc[previousDays:-afterDays]"
   ]
  },
  {
   "cell_type": "code",
   "execution_count": 9,
   "metadata": {},
   "outputs": [
    {
     "data": {
      "text/html": [
       "<div>\n",
       "<style scoped>\n",
       "    .dataframe tbody tr th:only-of-type {\n",
       "        vertical-align: middle;\n",
       "    }\n",
       "\n",
       "    .dataframe tbody tr th {\n",
       "        vertical-align: top;\n",
       "    }\n",
       "\n",
       "    .dataframe thead tr th {\n",
       "        text-align: left;\n",
       "    }\n",
       "\n",
       "    .dataframe thead tr:last-of-type th {\n",
       "        text-align: right;\n",
       "    }\n",
       "</style>\n",
       "<table border=\"1\" class=\"dataframe\">\n",
       "  <thead>\n",
       "    <tr>\n",
       "      <th></th>\n",
       "      <th>t-14</th>\n",
       "      <th>t-13</th>\n",
       "      <th>t-12</th>\n",
       "      <th>t-11</th>\n",
       "      <th>t-10</th>\n",
       "      <th>t-9</th>\n",
       "      <th>t-8</th>\n",
       "      <th>t-7</th>\n",
       "      <th>t-6</th>\n",
       "      <th>t-5</th>\n",
       "      <th>t-4</th>\n",
       "      <th>t-3</th>\n",
       "      <th>t-2</th>\n",
       "      <th>t-1</th>\n",
       "      <th>t</th>\n",
       "    </tr>\n",
       "    <tr>\n",
       "      <th></th>\n",
       "      <th>Temperature</th>\n",
       "      <th>Temperature</th>\n",
       "      <th>Temperature</th>\n",
       "      <th>Temperature</th>\n",
       "      <th>Temperature</th>\n",
       "      <th>Temperature</th>\n",
       "      <th>Temperature</th>\n",
       "      <th>Temperature</th>\n",
       "      <th>Temperature</th>\n",
       "      <th>Temperature</th>\n",
       "      <th>Temperature</th>\n",
       "      <th>Temperature</th>\n",
       "      <th>Temperature</th>\n",
       "      <th>Temperature</th>\n",
       "      <th>Temperature</th>\n",
       "    </tr>\n",
       "    <tr>\n",
       "      <th>Date</th>\n",
       "      <th></th>\n",
       "      <th></th>\n",
       "      <th></th>\n",
       "      <th></th>\n",
       "      <th></th>\n",
       "      <th></th>\n",
       "      <th></th>\n",
       "      <th></th>\n",
       "      <th></th>\n",
       "      <th></th>\n",
       "      <th></th>\n",
       "      <th></th>\n",
       "      <th></th>\n",
       "      <th></th>\n",
       "      <th></th>\n",
       "    </tr>\n",
       "  </thead>\n",
       "  <tbody>\n",
       "    <tr>\n",
       "      <th>1981-01-16</th>\n",
       "      <td>17.9</td>\n",
       "      <td>18.8</td>\n",
       "      <td>14.6</td>\n",
       "      <td>15.8</td>\n",
       "      <td>15.8</td>\n",
       "      <td>15.8</td>\n",
       "      <td>17.4</td>\n",
       "      <td>21.8</td>\n",
       "      <td>20.0</td>\n",
       "      <td>16.2</td>\n",
       "      <td>13.3</td>\n",
       "      <td>16.7</td>\n",
       "      <td>21.5</td>\n",
       "      <td>25.0</td>\n",
       "      <td>20.7</td>\n",
       "    </tr>\n",
       "    <tr>\n",
       "      <th>1981-01-17</th>\n",
       "      <td>18.8</td>\n",
       "      <td>14.6</td>\n",
       "      <td>15.8</td>\n",
       "      <td>15.8</td>\n",
       "      <td>15.8</td>\n",
       "      <td>17.4</td>\n",
       "      <td>21.8</td>\n",
       "      <td>20.0</td>\n",
       "      <td>16.2</td>\n",
       "      <td>13.3</td>\n",
       "      <td>16.7</td>\n",
       "      <td>21.5</td>\n",
       "      <td>25.0</td>\n",
       "      <td>20.7</td>\n",
       "      <td>20.6</td>\n",
       "    </tr>\n",
       "    <tr>\n",
       "      <th>1981-01-18</th>\n",
       "      <td>14.6</td>\n",
       "      <td>15.8</td>\n",
       "      <td>15.8</td>\n",
       "      <td>15.8</td>\n",
       "      <td>17.4</td>\n",
       "      <td>21.8</td>\n",
       "      <td>20.0</td>\n",
       "      <td>16.2</td>\n",
       "      <td>13.3</td>\n",
       "      <td>16.7</td>\n",
       "      <td>21.5</td>\n",
       "      <td>25.0</td>\n",
       "      <td>20.7</td>\n",
       "      <td>20.6</td>\n",
       "      <td>24.8</td>\n",
       "    </tr>\n",
       "    <tr>\n",
       "      <th>1981-01-19</th>\n",
       "      <td>15.8</td>\n",
       "      <td>15.8</td>\n",
       "      <td>15.8</td>\n",
       "      <td>17.4</td>\n",
       "      <td>21.8</td>\n",
       "      <td>20.0</td>\n",
       "      <td>16.2</td>\n",
       "      <td>13.3</td>\n",
       "      <td>16.7</td>\n",
       "      <td>21.5</td>\n",
       "      <td>25.0</td>\n",
       "      <td>20.7</td>\n",
       "      <td>20.6</td>\n",
       "      <td>24.8</td>\n",
       "      <td>17.7</td>\n",
       "    </tr>\n",
       "    <tr>\n",
       "      <th>1981-01-20</th>\n",
       "      <td>15.8</td>\n",
       "      <td>15.8</td>\n",
       "      <td>17.4</td>\n",
       "      <td>21.8</td>\n",
       "      <td>20.0</td>\n",
       "      <td>16.2</td>\n",
       "      <td>13.3</td>\n",
       "      <td>16.7</td>\n",
       "      <td>21.5</td>\n",
       "      <td>25.0</td>\n",
       "      <td>20.7</td>\n",
       "      <td>20.6</td>\n",
       "      <td>24.8</td>\n",
       "      <td>17.7</td>\n",
       "      <td>15.5</td>\n",
       "    </tr>\n",
       "  </tbody>\n",
       "</table>\n",
       "</div>"
      ],
      "text/plain": [
       "                  t-14        t-13        t-12        t-11        t-10  \\\n",
       "           Temperature Temperature Temperature Temperature Temperature   \n",
       "Date                                                                     \n",
       "1981-01-16        17.9        18.8        14.6        15.8        15.8   \n",
       "1981-01-17        18.8        14.6        15.8        15.8        15.8   \n",
       "1981-01-18        14.6        15.8        15.8        15.8        17.4   \n",
       "1981-01-19        15.8        15.8        15.8        17.4        21.8   \n",
       "1981-01-20        15.8        15.8        17.4        21.8        20.0   \n",
       "\n",
       "                   t-9         t-8         t-7         t-6         t-5  \\\n",
       "           Temperature Temperature Temperature Temperature Temperature   \n",
       "Date                                                                     \n",
       "1981-01-16        15.8        17.4        21.8        20.0        16.2   \n",
       "1981-01-17        17.4        21.8        20.0        16.2        13.3   \n",
       "1981-01-18        21.8        20.0        16.2        13.3        16.7   \n",
       "1981-01-19        20.0        16.2        13.3        16.7        21.5   \n",
       "1981-01-20        16.2        13.3        16.7        21.5        25.0   \n",
       "\n",
       "                   t-4         t-3         t-2         t-1           t  \n",
       "           Temperature Temperature Temperature Temperature Temperature  \n",
       "Date                                                                    \n",
       "1981-01-16        13.3        16.7        21.5        25.0        20.7  \n",
       "1981-01-17        16.7        21.5        25.0        20.7        20.6  \n",
       "1981-01-18        21.5        25.0        20.7        20.6        24.8  \n",
       "1981-01-19        25.0        20.7        20.6        24.8        17.7  \n",
       "1981-01-20        20.7        20.6        24.8        17.7        15.5  "
      ]
     },
     "execution_count": 9,
     "metadata": {},
     "output_type": "execute_result"
    }
   ],
   "source": [
    "X.head()"
   ]
  },
  {
   "cell_type": "code",
   "execution_count": 10,
   "metadata": {},
   "outputs": [
    {
     "data": {
      "text/html": [
       "<div>\n",
       "<style scoped>\n",
       "    .dataframe tbody tr th:only-of-type {\n",
       "        vertical-align: middle;\n",
       "    }\n",
       "\n",
       "    .dataframe tbody tr th {\n",
       "        vertical-align: top;\n",
       "    }\n",
       "\n",
       "    .dataframe thead tr th {\n",
       "        text-align: left;\n",
       "    }\n",
       "\n",
       "    .dataframe thead tr:last-of-type th {\n",
       "        text-align: right;\n",
       "    }\n",
       "</style>\n",
       "<table border=\"1\" class=\"dataframe\">\n",
       "  <thead>\n",
       "    <tr>\n",
       "      <th></th>\n",
       "      <th>t+2</th>\n",
       "    </tr>\n",
       "    <tr>\n",
       "      <th></th>\n",
       "      <th>Temperature</th>\n",
       "    </tr>\n",
       "    <tr>\n",
       "      <th>Date</th>\n",
       "      <th></th>\n",
       "    </tr>\n",
       "  </thead>\n",
       "  <tbody>\n",
       "    <tr>\n",
       "      <th>1981-01-16</th>\n",
       "      <td>24.8</td>\n",
       "    </tr>\n",
       "    <tr>\n",
       "      <th>1981-01-17</th>\n",
       "      <td>17.7</td>\n",
       "    </tr>\n",
       "    <tr>\n",
       "      <th>1981-01-18</th>\n",
       "      <td>15.5</td>\n",
       "    </tr>\n",
       "    <tr>\n",
       "      <th>1981-01-19</th>\n",
       "      <td>18.2</td>\n",
       "    </tr>\n",
       "    <tr>\n",
       "      <th>1981-01-20</th>\n",
       "      <td>12.1</td>\n",
       "    </tr>\n",
       "  </tbody>\n",
       "</table>\n",
       "</div>"
      ],
      "text/plain": [
       "                   t+2\n",
       "           Temperature\n",
       "Date                  \n",
       "1981-01-16        24.8\n",
       "1981-01-17        17.7\n",
       "1981-01-18        15.5\n",
       "1981-01-19        18.2\n",
       "1981-01-20        12.1"
      ]
     },
     "execution_count": 10,
     "metadata": {},
     "output_type": "execute_result"
    }
   ],
   "source": [
    "y.head()"
   ]
  },
  {
   "cell_type": "code",
   "execution_count": 11,
   "metadata": {},
   "outputs": [],
   "source": [
    "train_slice = slice(None, \"1988-12-28\")\n",
    "test_slice = slice(\"1989-01-01\", None)"
   ]
  },
  {
   "cell_type": "code",
   "execution_count": 12,
   "metadata": {},
   "outputs": [],
   "source": [
    "X_train, y_train = X.loc[train_slice], y.loc[train_slice]\n",
    "X_test, y_test = X.loc[test_slice], y.loc[test_slice]"
   ]
  },
  {
   "cell_type": "code",
   "execution_count": 13,
   "metadata": {
    "scrolled": true
   },
   "outputs": [
    {
     "name": "stdout",
     "output_type": "stream",
     "text": [
      "<class 'pandas.core.frame.DataFrame'>\n",
      "DatetimeIndex: 2903 entries, 1981-01-16 to 1988-12-28\n",
      "Data columns (total 15 columns):\n",
      "(t-14, Temperature)    2903 non-null float64\n",
      "(t-13, Temperature)    2903 non-null float64\n",
      "(t-12, Temperature)    2903 non-null float64\n",
      "(t-11, Temperature)    2903 non-null float64\n",
      "(t-10, Temperature)    2903 non-null float64\n",
      "(t-9, Temperature)     2903 non-null float64\n",
      "(t-8, Temperature)     2903 non-null float64\n",
      "(t-7, Temperature)     2903 non-null float64\n",
      "(t-6, Temperature)     2903 non-null float64\n",
      "(t-5, Temperature)     2903 non-null float64\n",
      "(t-4, Temperature)     2903 non-null float64\n",
      "(t-3, Temperature)     2903 non-null float64\n",
      "(t-2, Temperature)     2903 non-null float64\n",
      "(t-1, Temperature)     2903 non-null float64\n",
      "(t, Temperature)       2903 non-null float64\n",
      "dtypes: float64(15)\n",
      "memory usage: 362.9 KB\n",
      "None\n"
     ]
    }
   ],
   "source": [
    "print(X_train.info())"
   ]
  },
  {
   "cell_type": "code",
   "execution_count": 14,
   "metadata": {},
   "outputs": [
    {
     "name": "stdout",
     "output_type": "stream",
     "text": [
      "<class 'pandas.core.frame.DataFrame'>\n",
      "DatetimeIndex: 728 entries, 1989-01-01 to 1990-12-29\n",
      "Data columns (total 15 columns):\n",
      "(t-14, Temperature)    728 non-null float64\n",
      "(t-13, Temperature)    728 non-null float64\n",
      "(t-12, Temperature)    728 non-null float64\n",
      "(t-11, Temperature)    728 non-null float64\n",
      "(t-10, Temperature)    728 non-null float64\n",
      "(t-9, Temperature)     728 non-null float64\n",
      "(t-8, Temperature)     728 non-null float64\n",
      "(t-7, Temperature)     728 non-null float64\n",
      "(t-6, Temperature)     728 non-null float64\n",
      "(t-5, Temperature)     728 non-null float64\n",
      "(t-4, Temperature)     728 non-null float64\n",
      "(t-3, Temperature)     728 non-null float64\n",
      "(t-2, Temperature)     728 non-null float64\n",
      "(t-1, Temperature)     728 non-null float64\n",
      "(t, Temperature)       728 non-null float64\n",
      "dtypes: float64(15)\n",
      "memory usage: 91.0 KB\n",
      "None\n"
     ]
    }
   ],
   "source": [
    "print(X_test.info())"
   ]
  },
  {
   "cell_type": "code",
   "execution_count": 15,
   "metadata": {},
   "outputs": [],
   "source": [
    "# RNN needs the input to be 3D\n",
    "\n",
    "X_train_3D = convert3D(X_train)\n",
    "X_test_3D = convert3D(X_test)"
   ]
  },
  {
   "cell_type": "code",
   "execution_count": 16,
   "metadata": {},
   "outputs": [
    {
     "name": "stdout",
     "output_type": "stream",
     "text": [
      "(2903, 15, 1) (728, 15, 1)\n"
     ]
    }
   ],
   "source": [
    "print(X_train_3D.shape, X_test_3D.shape)"
   ]
  },
  {
   "cell_type": "markdown",
   "metadata": {},
   "source": [
    "## Simple RNN"
   ]
  },
  {
   "cell_type": "code",
   "execution_count": 17,
   "metadata": {},
   "outputs": [
    {
     "name": "stdout",
     "output_type": "stream",
     "text": [
      "WARNING:tensorflow:From /home/arjun/miniconda3/envs/num_exe/lib/python3.6/site-packages/tensorflow/python/ops/resource_variable_ops.py:435: colocate_with (from tensorflow.python.framework.ops) is deprecated and will be removed in a future version.\n",
      "Instructions for updating:\n",
      "Colocations handled automatically by placer.\n",
      "WARNING:tensorflow:From /home/arjun/miniconda3/envs/num_exe/lib/python3.6/site-packages/tensorflow/python/keras/utils/losses_utils.py:170: to_float (from tensorflow.python.ops.math_ops) is deprecated and will be removed in a future version.\n",
      "Instructions for updating:\n",
      "Use tf.cast instead.\n",
      "_________________________________________________________________\n",
      "Layer (type)                 Output Shape              Param #   \n",
      "=================================================================\n",
      "simple_rnn (SimpleRNN)       (None, 15, 50)            2600      \n",
      "_________________________________________________________________\n",
      "simple_rnn_1 (SimpleRNN)     (None, 25)                1900      \n",
      "_________________________________________________________________\n",
      "dense (Dense)                (None, 1)                 26        \n",
      "=================================================================\n",
      "Total params: 4,526\n",
      "Trainable params: 4,526\n",
      "Non-trainable params: 0\n",
      "_________________________________________________________________\n"
     ]
    }
   ],
   "source": [
    "model_simpleRNN = keras.models.Sequential()\n",
    "model_simpleRNN.add(keras.layers.SimpleRNN(50, return_sequences=True, input_shape=(15,1)))\n",
    "model_simpleRNN.add(keras.layers.SimpleRNN(25))\n",
    "model_simpleRNN.add(keras.layers.Dense(1))\n",
    "\n",
    "model_simpleRNN.compile(loss=\"mse\", optimizer=\"adam\", metrics=[\"mae\"])\n",
    "model_simpleRNN.summary()"
   ]
  },
  {
   "cell_type": "code",
   "execution_count": 18,
   "metadata": {
    "scrolled": false
   },
   "outputs": [
    {
     "name": "stdout",
     "output_type": "stream",
     "text": [
      "Train on 2612 samples, validate on 291 samples\n",
      "WARNING:tensorflow:From /home/arjun/miniconda3/envs/num_exe/lib/python3.6/site-packages/tensorflow/python/ops/math_ops.py:3066: to_int32 (from tensorflow.python.ops.math_ops) is deprecated and will be removed in a future version.\n",
      "Instructions for updating:\n",
      "Use tf.cast instead.\n",
      "Epoch 1/20\n",
      "2612/2612 [==============================] - 9s 3ms/sample - loss: 51.2756 - mean_absolute_error: 5.9877 - val_loss: 25.7339 - val_mean_absolute_error: 4.1030\n",
      "Epoch 2/20\n",
      "2612/2612 [==============================] - 5s 2ms/sample - loss: 22.7991 - mean_absolute_error: 3.7967 - val_loss: 14.9662 - val_mean_absolute_error: 3.0754\n",
      "Epoch 3/20\n",
      "2612/2612 [==============================] - 5s 2ms/sample - loss: 15.6998 - mean_absolute_error: 3.0992 - val_loss: 10.8951 - val_mean_absolute_error: 2.6102\n",
      "Epoch 4/20\n",
      "2612/2612 [==============================] - 5s 2ms/sample - loss: 11.6416 - mean_absolute_error: 2.6442 - val_loss: 9.5776 - val_mean_absolute_error: 2.4370\n",
      "Epoch 5/20\n",
      "2612/2612 [==============================] - 5s 2ms/sample - loss: 10.0853 - mean_absolute_error: 2.4542 - val_loss: 8.6227 - val_mean_absolute_error: 2.3215\n",
      "Epoch 6/20\n",
      "2612/2612 [==============================] - 5s 2ms/sample - loss: 9.3811 - mean_absolute_error: 2.3672 - val_loss: 8.1561 - val_mean_absolute_error: 2.2469\n",
      "Epoch 7/20\n",
      "2612/2612 [==============================] - 5s 2ms/sample - loss: 9.0436 - mean_absolute_error: 2.3207 - val_loss: 7.9352 - val_mean_absolute_error: 2.1846\n",
      "Epoch 8/20\n",
      "2612/2612 [==============================] - 5s 2ms/sample - loss: 8.7940 - mean_absolute_error: 2.2965 - val_loss: 7.9535 - val_mean_absolute_error: 2.1807\n",
      "Epoch 9/20\n",
      "2612/2612 [==============================] - 5s 2ms/sample - loss: 8.7157 - mean_absolute_error: 2.2836 - val_loss: 7.9173 - val_mean_absolute_error: 2.1621\n",
      "Epoch 10/20\n",
      "2612/2612 [==============================] - 5s 2ms/sample - loss: 8.6077 - mean_absolute_error: 2.2745 - val_loss: 8.3174 - val_mean_absolute_error: 2.2136\n",
      "Epoch 11/20\n",
      "2612/2612 [==============================] - 5s 2ms/sample - loss: 8.5664 - mean_absolute_error: 2.2701 - val_loss: 7.8896 - val_mean_absolute_error: 2.1918\n",
      "Epoch 12/20\n",
      "2612/2612 [==============================] - 5s 2ms/sample - loss: 8.4599 - mean_absolute_error: 2.2686 - val_loss: 7.7981 - val_mean_absolute_error: 2.1799\n",
      "Epoch 13/20\n",
      "2612/2612 [==============================] - 5s 2ms/sample - loss: 8.4282 - mean_absolute_error: 2.2509 - val_loss: 7.9724 - val_mean_absolute_error: 2.1962\n",
      "Epoch 14/20\n",
      "2612/2612 [==============================] - 5s 2ms/sample - loss: 8.4714 - mean_absolute_error: 2.2611 - val_loss: 7.8692 - val_mean_absolute_error: 2.1884\n",
      "Epoch 15/20\n",
      "2612/2612 [==============================] - 5s 2ms/sample - loss: 8.2906 - mean_absolute_error: 2.2321 - val_loss: 7.9074 - val_mean_absolute_error: 2.2057\n",
      "Epoch 16/20\n",
      "2612/2612 [==============================] - 5s 2ms/sample - loss: 8.2602 - mean_absolute_error: 2.2352 - val_loss: 7.7050 - val_mean_absolute_error: 2.1636\n",
      "Epoch 17/20\n",
      "2612/2612 [==============================] - 6s 2ms/sample - loss: 8.2400 - mean_absolute_error: 2.2250 - val_loss: 7.7795 - val_mean_absolute_error: 2.1835\n",
      "Epoch 18/20\n",
      "2612/2612 [==============================] - 5s 2ms/sample - loss: 8.2373 - mean_absolute_error: 2.2314 - val_loss: 7.8243 - val_mean_absolute_error: 2.1923\n",
      "Epoch 19/20\n",
      "2612/2612 [==============================] - 6s 2ms/sample - loss: 8.1981 - mean_absolute_error: 2.2247 - val_loss: 7.6854 - val_mean_absolute_error: 2.1715\n",
      "Epoch 20/20\n",
      "2612/2612 [==============================] - 6s 2ms/sample - loss: 8.2146 - mean_absolute_error: 2.2230 - val_loss: 7.7513 - val_mean_absolute_error: 2.1876\n"
     ]
    }
   ],
   "source": [
    "history_simpleRNN = model_simpleRNN.fit(X_train_3D, y_train, epochs=20, \n",
    "                                        batch_size=20, validation_split=0.1)"
   ]
  },
  {
   "cell_type": "code",
   "execution_count": 19,
   "metadata": {},
   "outputs": [
    {
     "data": {
      "image/png": "[encoded data removed]",
      "text/plain": [
       "<Figure size 432x288 with 1 Axes>"
      ]
     },
     "metadata": {
      "needs_background": "light"
     },
     "output_type": "display_data"
    }
   ],
   "source": [
    "pd.DataFrame(history_simpleRNN.history).plot()\n",
    "plt.xlabel(\"epochs\")\n",
    "plt.ylabel(\"loss\")\n",
    "plt.grid(True)\n",
    "plt.show()"
   ]
  },
  {
   "cell_type": "markdown",
   "metadata": {},
   "source": [
    "## LSTM"
   ]
  },
  {
   "cell_type": "code",
   "execution_count": 22,
   "metadata": {},
   "outputs": [
    {
     "name": "stdout",
     "output_type": "stream",
     "text": [
      "_________________________________________________________________\n",
      "Layer (type)                 Output Shape              Param #   \n",
      "=================================================================\n",
      "lstm_2 (LSTM)                (None, 15, 50)            10400     \n",
      "_________________________________________________________________\n",
      "lstm_3 (LSTM)                (None, 25)                7600      \n",
      "_________________________________________________________________\n",
      "dense_2 (Dense)              (None, 1)                 26        \n",
      "=================================================================\n",
      "Total params: 18,026\n",
      "Trainable params: 18,026\n",
      "Non-trainable params: 0\n",
      "_________________________________________________________________\n"
     ]
    }
   ],
   "source": [
    "model_LSTM = keras.models.Sequential()\n",
    "model_LSTM.add(keras.layers.LSTM(50, return_sequences=True, input_shape=(15,1)))\n",
    "model_LSTM.add(keras.layers.LSTM(25))\n",
    "model_LSTM.add(keras.layers.Dense(1))\n",
    "\n",
    "model_LSTM.compile(loss=\"mse\", optimizer=\"adam\", metrics=[\"mae\"])\n",
    "model_LSTM.summary()"
   ]
  },
  {
   "cell_type": "code",
   "execution_count": 23,
   "metadata": {},
   "outputs": [
    {
     "name": "stdout",
     "output_type": "stream",
     "text": [
      "Train on 2612 samples, validate on 291 samples\n",
      "Epoch 1/20\n",
      "2612/2612 [==============================] - 26s 10ms/sample - loss: 50.2767 - mean_absolute_error: 5.8259 - val_loss: 19.7668 - val_mean_absolute_error: 3.5171\n",
      "Epoch 2/20\n",
      "2612/2612 [==============================] - 17s 7ms/sample - loss: 19.5061 - mean_absolute_error: 3.5133 - val_loss: 13.3181 - val_mean_absolute_error: 2.9418\n",
      "Epoch 3/20\n",
      "2612/2612 [==============================] - 17s 7ms/sample - loss: 16.9017 - mean_absolute_error: 3.2827 - val_loss: 12.5564 - val_mean_absolute_error: 2.8855\n",
      "Epoch 4/20\n",
      "2612/2612 [==============================] - 17s 7ms/sample - loss: 16.6559 - mean_absolute_error: 3.2645 - val_loss: 12.4575 - val_mean_absolute_error: 2.8799\n",
      "Epoch 5/20\n",
      "2612/2612 [==============================] - 18s 7ms/sample - loss: 16.6430 - mean_absolute_error: 3.2645 - val_loss: 12.4562 - val_mean_absolute_error: 2.8799\n",
      "Epoch 6/20\n",
      "2612/2612 [==============================] - 18s 7ms/sample - loss: 16.6387 - mean_absolute_error: 3.2644 - val_loss: 12.4507 - val_mean_absolute_error: 2.8800\n",
      "Epoch 7/20\n",
      "2612/2612 [==============================] - 18s 7ms/sample - loss: 16.6410 - mean_absolute_error: 3.2645 - val_loss: 12.4281 - val_mean_absolute_error: 2.8782\n",
      "Epoch 8/20\n",
      "2612/2612 [==============================] - 18s 7ms/sample - loss: 14.8862 - mean_absolute_error: 3.0667 - val_loss: 9.9782 - val_mean_absolute_error: 2.5115\n",
      "Epoch 9/20\n",
      "2612/2612 [==============================] - 18s 7ms/sample - loss: 10.2765 - mean_absolute_error: 2.4916 - val_loss: 8.0322 - val_mean_absolute_error: 2.2320\n",
      "Epoch 10/20\n",
      "2612/2612 [==============================] - 18s 7ms/sample - loss: 8.8986 - mean_absolute_error: 2.3149 - val_loss: 7.8827 - val_mean_absolute_error: 2.1759\n",
      "Epoch 11/20\n",
      "2612/2612 [==============================] - 18s 7ms/sample - loss: 8.6315 - mean_absolute_error: 2.2801 - val_loss: 7.6387 - val_mean_absolute_error: 2.1492\n",
      "Epoch 12/20\n",
      "2612/2612 [==============================] - 20s 8ms/sample - loss: 8.4136 - mean_absolute_error: 2.2522 - val_loss: 7.5986 - val_mean_absolute_error: 2.1411\n",
      "Epoch 13/20\n",
      "2612/2612 [==============================] - 18s 7ms/sample - loss: 8.3751 - mean_absolute_error: 2.2449 - val_loss: 7.7661 - val_mean_absolute_error: 2.1515\n",
      "Epoch 14/20\n",
      "2612/2612 [==============================] - 18s 7ms/sample - loss: 8.2433 - mean_absolute_error: 2.2423 - val_loss: 7.5849 - val_mean_absolute_error: 2.1289\n",
      "Epoch 15/20\n",
      "2612/2612 [==============================] - 19s 7ms/sample - loss: 8.2524 - mean_absolute_error: 2.2387 - val_loss: 7.4831 - val_mean_absolute_error: 2.1196\n",
      "Epoch 16/20\n",
      "2612/2612 [==============================] - 19s 7ms/sample - loss: 8.1431 - mean_absolute_error: 2.2233 - val_loss: 7.5068 - val_mean_absolute_error: 2.1154\n",
      "Epoch 17/20\n",
      "2612/2612 [==============================] - 19s 7ms/sample - loss: 8.1481 - mean_absolute_error: 2.2200 - val_loss: 7.9724 - val_mean_absolute_error: 2.1743\n",
      "Epoch 18/20\n",
      "2612/2612 [==============================] - 19s 7ms/sample - loss: 8.1747 - mean_absolute_error: 2.2321 - val_loss: 7.5797 - val_mean_absolute_error: 2.1233\n",
      "Epoch 19/20\n",
      "2612/2612 [==============================] - 18s 7ms/sample - loss: 8.1500 - mean_absolute_error: 2.2269 - val_loss: 7.7017 - val_mean_absolute_error: 2.1237\n",
      "Epoch 20/20\n",
      "2612/2612 [==============================] - 19s 7ms/sample - loss: 8.1457 - mean_absolute_error: 2.2199 - val_loss: 7.7867 - val_mean_absolute_error: 2.1712\n"
     ]
    }
   ],
   "source": [
    "history_LSTM = model_LSTM.fit(X_train_3D, y_train, epochs=20, \n",
    "                                        batch_size=20, validation_split=0.1)"
   ]
  },
  {
   "cell_type": "code",
   "execution_count": 24,
   "metadata": {},
   "outputs": [
    {
     "data": {
      "image/png": "[encoded data removed]",
      "text/plain": [
       "<Figure size 432x288 with 1 Axes>"
      ]
     },
     "metadata": {
      "needs_background": "light"
     },
     "output_type": "display_data"
    }
   ],
   "source": [
    "pd.DataFrame(history_LSTM.history).plot()\n",
    "plt.xlabel(\"epochs\")\n",
    "plt.ylabel(\"loss\")\n",
    "plt.grid(True)\n",
    "plt.show()"
   ]
  },
  {
   "cell_type": "markdown",
   "metadata": {},
   "source": [
    "# GRU"
   ]
  },
  {
   "cell_type": "code",
   "execution_count": 25,
   "metadata": {},
   "outputs": [
    {
     "name": "stdout",
     "output_type": "stream",
     "text": [
      "_________________________________________________________________\n",
      "Layer (type)                 Output Shape              Param #   \n",
      "=================================================================\n",
      "gru (GRU)                    (None, 15, 50)            7800      \n",
      "_________________________________________________________________\n",
      "gru_1 (GRU)                  (None, 25)                5700      \n",
      "_________________________________________________________________\n",
      "dense_3 (Dense)              (None, 1)                 26        \n",
      "=================================================================\n",
      "Total params: 13,526\n",
      "Trainable params: 13,526\n",
      "Non-trainable params: 0\n",
      "_________________________________________________________________\n"
     ]
    }
   ],
   "source": [
    "model_GRU = keras.models.Sequential()\n",
    "model_GRU.add(keras.layers.GRU(50, return_sequences=True, input_shape=(15,1)))\n",
    "model_GRU.add(keras.layers.GRU(25))\n",
    "model_GRU.add(keras.layers.Dense(1))\n",
    "\n",
    "model_GRU.compile(loss=\"mse\", optimizer=\"adam\", metrics=[\"mae\"])\n",
    "model_GRU.summary()"
   ]
  },
  {
   "cell_type": "code",
   "execution_count": 26,
   "metadata": {},
   "outputs": [
    {
     "name": "stdout",
     "output_type": "stream",
     "text": [
      "Train on 2612 samples, validate on 291 samples\n",
      "Epoch 1/20\n",
      "2612/2612 [==============================] - 22s 8ms/sample - loss: 42.0979 - mean_absolute_error: 5.2772 - val_loss: 18.9866 - val_mean_absolute_error: 3.4419\n",
      "Epoch 2/20\n",
      "2612/2612 [==============================] - 14s 5ms/sample - loss: 19.2076 - mean_absolute_error: 3.4828 - val_loss: 13.2303 - val_mean_absolute_error: 2.9320\n",
      "Epoch 3/20\n",
      "2612/2612 [==============================] - 14s 5ms/sample - loss: 14.1318 - mean_absolute_error: 2.9362 - val_loss: 9.7774 - val_mean_absolute_error: 2.4730\n",
      "Epoch 4/20\n",
      "2612/2612 [==============================] - 14s 5ms/sample - loss: 10.4363 - mean_absolute_error: 2.4897 - val_loss: 8.3413 - val_mean_absolute_error: 2.2857\n",
      "Epoch 5/20\n",
      "2612/2612 [==============================] - 15s 6ms/sample - loss: 9.2878 - mean_absolute_error: 2.3528 - val_loss: 7.8164 - val_mean_absolute_error: 2.1810\n",
      "Epoch 6/20\n",
      "2612/2612 [==============================] - 15s 6ms/sample - loss: 8.7444 - mean_absolute_error: 2.2788 - val_loss: 7.6811 - val_mean_absolute_error: 2.1511\n",
      "Epoch 7/20\n",
      "2612/2612 [==============================] - 15s 6ms/sample - loss: 8.5557 - mean_absolute_error: 2.2642 - val_loss: 7.5881 - val_mean_absolute_error: 2.1280\n",
      "Epoch 8/20\n",
      "2612/2612 [==============================] - 16s 6ms/sample - loss: 8.3187 - mean_absolute_error: 2.2373 - val_loss: 7.4655 - val_mean_absolute_error: 2.1121\n",
      "Epoch 9/20\n",
      "2612/2612 [==============================] - 16s 6ms/sample - loss: 8.3086 - mean_absolute_error: 2.2429 - val_loss: 7.6833 - val_mean_absolute_error: 2.1477\n",
      "Epoch 10/20\n",
      "2612/2612 [==============================] - 16s 6ms/sample - loss: 8.2170 - mean_absolute_error: 2.2265 - val_loss: 7.4716 - val_mean_absolute_error: 2.1096\n",
      "Epoch 11/20\n",
      "2612/2612 [==============================] - 14s 5ms/sample - loss: 8.1616 - mean_absolute_error: 2.2209 - val_loss: 7.5280 - val_mean_absolute_error: 2.1016\n",
      "Epoch 12/20\n",
      "2612/2612 [==============================] - 16s 6ms/sample - loss: 8.0889 - mean_absolute_error: 2.2097 - val_loss: 7.7245 - val_mean_absolute_error: 2.1456\n",
      "Epoch 13/20\n",
      "2612/2612 [==============================] - 16s 6ms/sample - loss: 8.1389 - mean_absolute_error: 2.2251 - val_loss: 7.5718 - val_mean_absolute_error: 2.1086\n",
      "Epoch 14/20\n",
      "2612/2612 [==============================] - 15s 6ms/sample - loss: 8.0671 - mean_absolute_error: 2.2097 - val_loss: 7.6328 - val_mean_absolute_error: 2.1253\n",
      "Epoch 15/20\n",
      "2612/2612 [==============================] - 16s 6ms/sample - loss: 8.0718 - mean_absolute_error: 2.2145 - val_loss: 7.6174 - val_mean_absolute_error: 2.1084\n",
      "Epoch 16/20\n",
      "2612/2612 [==============================] - 16s 6ms/sample - loss: 8.0657 - mean_absolute_error: 2.2112 - val_loss: 7.6548 - val_mean_absolute_error: 2.1268\n",
      "Epoch 17/20\n",
      "2612/2612 [==============================] - 15s 6ms/sample - loss: 8.0257 - mean_absolute_error: 2.2113 - val_loss: 7.5711 - val_mean_absolute_error: 2.1095\n",
      "Epoch 18/20\n",
      "2612/2612 [==============================] - 15s 6ms/sample - loss: 8.0386 - mean_absolute_error: 2.2026 - val_loss: 7.7519 - val_mean_absolute_error: 2.1389\n",
      "Epoch 19/20\n",
      "2612/2612 [==============================] - 16s 6ms/sample - loss: 7.9315 - mean_absolute_error: 2.1955 - val_loss: 7.7424 - val_mean_absolute_error: 2.1179\n",
      "Epoch 20/20\n",
      "2612/2612 [==============================] - 16s 6ms/sample - loss: 8.0126 - mean_absolute_error: 2.2061 - val_loss: 7.6622 - val_mean_absolute_error: 2.1146\n"
     ]
    }
   ],
   "source": [
    "history_GRU = model_GRU.fit(X_train_3D, y_train, epochs=20, \n",
    "                                        batch_size=20, validation_split=0.1)"
   ]
  },
  {
   "cell_type": "code",
   "execution_count": 27,
   "metadata": {},
   "outputs": [
    {
     "data": {
      "image/png": "[encoded data removed]",
      "text/plain": [
       "<Figure size 432x288 with 1 Axes>"
      ]
     },
     "metadata": {
      "needs_background": "light"
     },
     "output_type": "display_data"
    }
   ],
   "source": [
    "pd.DataFrame(history_GRU.history).plot()\n",
    "plt.xlabel(\"epochs\")\n",
    "plt.ylabel(\"loss\")\n",
    "plt.grid(True)\n",
    "plt.show()"
   ]
  },
  {
   "cell_type": "markdown",
   "metadata": {},
   "source": [
    "# Results of all different versions of RNN"
   ]
  },
  {
   "cell_type": "code",
   "execution_count": 28,
   "metadata": {},
   "outputs": [
    {
     "name": "stdout",
     "output_type": "stream",
     "text": [
      "728/728 [==============================] - 1s 843us/sample - loss: 6.7578 - mean_absolute_error: 2.0377\n",
      "728/728 [==============================] - 1s 2ms/sample - loss: 6.9257 - mean_absolute_error: 2.0594\n",
      "728/728 [==============================] - 1s 1ms/sample - loss: 6.7711 - mean_absolute_error: 2.0327\n"
     ]
    }
   ],
   "source": [
    "mae_simpleRNN = model_simpleRNN.evaluate(X_test_3D, y_test)\n",
    "mae_LSTM = model_LSTM.evaluate(X_test_3D, y_test)\n",
    "mae_GRU = model_GRU.evaluate(X_test_3D, y_test)"
   ]
  },
  {
   "cell_type": "code",
   "execution_count": 29,
   "metadata": {},
   "outputs": [
    {
     "name": "stdout",
     "output_type": "stream",
     "text": [
      "mae_simpleRNN:  [6.757796829873389, 2.0377285]\n",
      "mae_LSTM:  [6.925727066102919, 2.059428]\n",
      "mae_GRU:  [6.771091875139174, 2.0327208]\n"
     ]
    }
   ],
   "source": [
    "print(\"mae_simpleRNN: \", mae_simpleRNN)\n",
    "print(\"mae_LSTM: \", mae_LSTM)\n",
    "print(\"mae_GRU: \", mae_GRU)"
   ]
  },
  {
   "cell_type": "code",
   "execution_count": null,
   "metadata": {},
   "outputs": [],
   "source": []
  }
 ],
 "metadata": {
  "kernelspec": {
   "display_name": "Python 3",
   "language": "python",
   "name": "python3"
  },
  "language_info": {
   "codemirror_mode": {
    "name": "ipython",
    "version": 3
   },
   "file_extension": ".py",
   "mimetype": "text/x-python",
   "name": "python",
   "nbconvert_exporter": "python",
   "pygments_lexer": "ipython3",
   "version": "3.6.7"
  }
 },
 "nbformat": 4,
 "nbformat_minor": 2
}
