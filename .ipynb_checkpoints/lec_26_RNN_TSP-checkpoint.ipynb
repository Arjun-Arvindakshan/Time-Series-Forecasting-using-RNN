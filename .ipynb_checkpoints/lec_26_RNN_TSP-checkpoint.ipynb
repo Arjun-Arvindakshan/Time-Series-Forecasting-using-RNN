{
 "cells": [
  {
   "cell_type": "markdown",
   "metadata": {},
   "source": [
    "# Time Series Forecasting"
   ]
  },
  {
   "cell_type": "code",
   "execution_count": 1,
   "metadata": {},
   "outputs": [],
   "source": [
    "import numpy as np\n",
    "\n",
    "import matplotlib.pyplot as plt\n",
    "%matplotlib inline\n",
    "\n",
    "import pandas as pd\n",
    "\n",
    "import tensorflow as tf\n",
    "from tensorflow import keras"
   ]
  },
  {
   "cell_type": "code",
   "execution_count": 2,
   "metadata": {},
   "outputs": [],
   "source": [
    "def createDelayedColumns(series, times):\n",
    "    cols = []\n",
    "    column_index = []\n",
    "    for time in times:\n",
    "        cols.append(series.shift(-time))\n",
    "        lag_fmt = \"t+{time}\" if time > 0 else \"t{time}\" if time < 0 else \"t\"\n",
    "        column_index += [(lag_fmt.format(time=time), col_name)\n",
    "                        for col_name in series.columns]\n",
    "    df = pd.concat(cols, axis=1)\n",
    "    df.columns = pd.MultiIndex.from_tuples(column_index)\n",
    "    return df\n",
    "\n",
    "def convert3D(df):\n",
    "    shape = [-1] + [len(level) for level in df.columns.remove_unused_levels().levels]\n",
    "    return df.values.reshape(shape)\n",
    "\n",
    "def plot_predictions(*named_predictions, start=None, end=None, **kwargs):\n",
    "    day_range = slice(start, end)\n",
    "    plt.figure(figsize=(10,5))\n",
    "    for name, y_pred in named_predictions:\n",
    "        if hasattr(y_pred, \"values\"):\n",
    "            y_pred = y_pred.values\n",
    "        plt.plot(y_pred[day_range], label=name, **kwargs)\n",
    "    plt.legend()\n",
    "    plt.show()\n",
    "    \n",
    "def plot_history(history, loss=\"loss\"):\n",
    "    train_losses = history.history[loss]\n",
    "    valid_losses = history.history[\"val_\" + loss]\n",
    "    n_epochs = len(history.epoch)\n",
    "    minloss = np.min(valid_losses)\n",
    "    \n",
    "    plt.plot(train_losses, color=\"b\", label=\"Train\")\n",
    "    plt.plot(valid_losses, color=\"r\", label=\"Validation\")\n",
    "    plt.plot([0, n_epochs], [minloss, minloss], \"k--\",\n",
    "             label=\"Min val: {:.2f}\".format(minloss))\n",
    "    plt.axis([0, n_epochs, 0, 20])\n",
    "    plt.legend()\n",
    "    plt.show()\n"
   ]
  },
  {
   "cell_type": "markdown",
   "metadata": {},
   "source": [
    "### Daily minimum temperatures in Melbourne from 1981 to 1990 "
   ]
  },
  {
   "cell_type": "code",
   "execution_count": 3,
   "metadata": {},
   "outputs": [],
   "source": [
    "dailyTemps = pd.read_csv(\"data/daily-minimum-temperatures.csv\", \n",
    "                        parse_dates=[0], index_col=[0])"
   ]
  },
  {
   "cell_type": "code",
   "execution_count": 4,
   "metadata": {
    "scrolled": true
   },
   "outputs": [
    {
     "data": {
      "text/html": [
       "<div>\n",
       "<style scoped>\n",
       "    .dataframe tbody tr th:only-of-type {\n",
       "        vertical-align: middle;\n",
       "    }\n",
       "\n",
       "    .dataframe tbody tr th {\n",
       "        vertical-align: top;\n",
       "    }\n",
       "\n",
       "    .dataframe thead th {\n",
       "        text-align: right;\n",
       "    }\n",
       "</style>\n",
       "<table border=\"1\" class=\"dataframe\">\n",
       "  <thead>\n",
       "    <tr style=\"text-align: right;\">\n",
       "      <th></th>\n",
       "      <th>Temperature</th>\n",
       "    </tr>\n",
       "    <tr>\n",
       "      <th>Date</th>\n",
       "      <th></th>\n",
       "    </tr>\n",
       "  </thead>\n",
       "  <tbody>\n",
       "    <tr>\n",
       "      <th>1981-01-01</th>\n",
       "      <td>20.7</td>\n",
       "    </tr>\n",
       "    <tr>\n",
       "      <th>1981-01-02</th>\n",
       "      <td>17.9</td>\n",
       "    </tr>\n",
       "    <tr>\n",
       "      <th>1981-01-03</th>\n",
       "      <td>18.8</td>\n",
       "    </tr>\n",
       "    <tr>\n",
       "      <th>1981-01-04</th>\n",
       "      <td>14.6</td>\n",
       "    </tr>\n",
       "    <tr>\n",
       "      <th>1981-01-05</th>\n",
       "      <td>15.8</td>\n",
       "    </tr>\n",
       "  </tbody>\n",
       "</table>\n",
       "</div>"
      ],
      "text/plain": [
       "            Temperature\n",
       "Date                   \n",
       "1981-01-01         20.7\n",
       "1981-01-02         17.9\n",
       "1981-01-03         18.8\n",
       "1981-01-04         14.6\n",
       "1981-01-05         15.8"
      ]
     },
     "execution_count": 4,
     "metadata": {},
     "output_type": "execute_result"
    }
   ],
   "source": [
    "dailyTemps.head()"
   ]
  },
  {
   "cell_type": "code",
   "execution_count": 5,
   "metadata": {},
   "outputs": [
    {
     "data": {
      "text/html": [
       "<div>\n",
       "<style scoped>\n",
       "    .dataframe tbody tr th:only-of-type {\n",
       "        vertical-align: middle;\n",
       "    }\n",
       "\n",
       "    .dataframe tbody tr th {\n",
       "        vertical-align: top;\n",
       "    }\n",
       "\n",
       "    .dataframe thead th {\n",
       "        text-align: right;\n",
       "    }\n",
       "</style>\n",
       "<table border=\"1\" class=\"dataframe\">\n",
       "  <thead>\n",
       "    <tr style=\"text-align: right;\">\n",
       "      <th></th>\n",
       "      <th>Temperature</th>\n",
       "    </tr>\n",
       "    <tr>\n",
       "      <th>Date</th>\n",
       "      <th></th>\n",
       "    </tr>\n",
       "  </thead>\n",
       "  <tbody>\n",
       "    <tr>\n",
       "      <th>1990-12-27</th>\n",
       "      <td>14.0</td>\n",
       "    </tr>\n",
       "    <tr>\n",
       "      <th>1990-12-28</th>\n",
       "      <td>13.6</td>\n",
       "    </tr>\n",
       "    <tr>\n",
       "      <th>1990-12-29</th>\n",
       "      <td>13.5</td>\n",
       "    </tr>\n",
       "    <tr>\n",
       "      <th>1990-12-30</th>\n",
       "      <td>15.7</td>\n",
       "    </tr>\n",
       "    <tr>\n",
       "      <th>1990-12-31</th>\n",
       "      <td>13.0</td>\n",
       "    </tr>\n",
       "  </tbody>\n",
       "</table>\n",
       "</div>"
      ],
      "text/plain": [
       "            Temperature\n",
       "Date                   \n",
       "1990-12-27         14.0\n",
       "1990-12-28         13.6\n",
       "1990-12-29         13.5\n",
       "1990-12-30         15.7\n",
       "1990-12-31         13.0"
      ]
     },
     "execution_count": 5,
     "metadata": {},
     "output_type": "execute_result"
    }
   ],
   "source": [
    "dailyTemps.tail()"
   ]
  },
  {
   "cell_type": "code",
   "execution_count": 6,
   "metadata": {
    "scrolled": true
   },
   "outputs": [
    {
     "name": "stdout",
     "output_type": "stream",
     "text": [
      "<class 'pandas.core.frame.DataFrame'>\n",
      "DatetimeIndex: 3650 entries, 1981-01-01 to 1990-12-31\n",
      "Data columns (total 1 columns):\n",
      "Temperature    3650 non-null float64\n",
      "dtypes: float64(1)\n",
      "memory usage: 57.0 KB\n",
      "None\n"
     ]
    }
   ],
   "source": [
    "print(dailyTemps.info())"
   ]
  },
  {
   "cell_type": "code",
   "execution_count": 7,
   "metadata": {},
   "outputs": [
    {
     "data": {
      "image/png": "[encoded data removed]",
      "text/plain": [
       "<Figure size 864x576 with 1 Axes>"
      ]
     },
     "metadata": {
      "needs_background": "light"
     },
     "output_type": "display_data"
    }
   ],
   "source": [
    "dailyTemps.plot(figsize=(12,8))\n",
    "plt.savefig(\"f1.png\", format='png', dpi=300)\n",
    "plt.tight_layout()\n",
    "plt.show()"
   ]
  },
  {
   "cell_type": "markdown",
   "metadata": {},
   "source": [
    "### Based on previous 7 days minimum temperature, predict the minimum temperature after two days"
   ]
  },
  {
   "cell_type": "code",
   "execution_count": 8,
   "metadata": {},
   "outputs": [],
   "source": [
    "previousDays = 7\n",
    "afterDays = 2\n",
    "\n",
    "X = createDelayedColumns(dailyTemps, times=range(-previousDays+1,1)).iloc[previousDays:-afterDays]\n",
    "y = createDelayedColumns(dailyTemps, times=[afterDays]).iloc[previousDays:-afterDays]"
   ]
  },
  {
   "cell_type": "code",
   "execution_count": 9,
   "metadata": {},
   "outputs": [
    {
     "data": {
      "text/html": [
       "<div>\n",
       "<style scoped>\n",
       "    .dataframe tbody tr th:only-of-type {\n",
       "        vertical-align: middle;\n",
       "    }\n",
       "\n",
       "    .dataframe tbody tr th {\n",
       "        vertical-align: top;\n",
       "    }\n",
       "\n",
       "    .dataframe thead tr th {\n",
       "        text-align: left;\n",
       "    }\n",
       "\n",
       "    .dataframe thead tr:last-of-type th {\n",
       "        text-align: right;\n",
       "    }\n",
       "</style>\n",
       "<table border=\"1\" class=\"dataframe\">\n",
       "  <thead>\n",
       "    <tr>\n",
       "      <th></th>\n",
       "      <th>t-6</th>\n",
       "      <th>t-5</th>\n",
       "      <th>t-4</th>\n",
       "      <th>t-3</th>\n",
       "      <th>t-2</th>\n",
       "      <th>t-1</th>\n",
       "      <th>t</th>\n",
       "    </tr>\n",
       "    <tr>\n",
       "      <th></th>\n",
       "      <th>Temperature</th>\n",
       "      <th>Temperature</th>\n",
       "      <th>Temperature</th>\n",
       "      <th>Temperature</th>\n",
       "      <th>Temperature</th>\n",
       "      <th>Temperature</th>\n",
       "      <th>Temperature</th>\n",
       "    </tr>\n",
       "    <tr>\n",
       "      <th>Date</th>\n",
       "      <th></th>\n",
       "      <th></th>\n",
       "      <th></th>\n",
       "      <th></th>\n",
       "      <th></th>\n",
       "      <th></th>\n",
       "      <th></th>\n",
       "    </tr>\n",
       "  </thead>\n",
       "  <tbody>\n",
       "    <tr>\n",
       "      <th>1981-01-08</th>\n",
       "      <td>17.9</td>\n",
       "      <td>18.8</td>\n",
       "      <td>14.6</td>\n",
       "      <td>15.8</td>\n",
       "      <td>15.8</td>\n",
       "      <td>15.8</td>\n",
       "      <td>17.4</td>\n",
       "    </tr>\n",
       "    <tr>\n",
       "      <th>1981-01-09</th>\n",
       "      <td>18.8</td>\n",
       "      <td>14.6</td>\n",
       "      <td>15.8</td>\n",
       "      <td>15.8</td>\n",
       "      <td>15.8</td>\n",
       "      <td>17.4</td>\n",
       "      <td>21.8</td>\n",
       "    </tr>\n",
       "    <tr>\n",
       "      <th>1981-01-10</th>\n",
       "      <td>14.6</td>\n",
       "      <td>15.8</td>\n",
       "      <td>15.8</td>\n",
       "      <td>15.8</td>\n",
       "      <td>17.4</td>\n",
       "      <td>21.8</td>\n",
       "      <td>20.0</td>\n",
       "    </tr>\n",
       "    <tr>\n",
       "      <th>1981-01-11</th>\n",
       "      <td>15.8</td>\n",
       "      <td>15.8</td>\n",
       "      <td>15.8</td>\n",
       "      <td>17.4</td>\n",
       "      <td>21.8</td>\n",
       "      <td>20.0</td>\n",
       "      <td>16.2</td>\n",
       "    </tr>\n",
       "    <tr>\n",
       "      <th>1981-01-12</th>\n",
       "      <td>15.8</td>\n",
       "      <td>15.8</td>\n",
       "      <td>17.4</td>\n",
       "      <td>21.8</td>\n",
       "      <td>20.0</td>\n",
       "      <td>16.2</td>\n",
       "      <td>13.3</td>\n",
       "    </tr>\n",
       "  </tbody>\n",
       "</table>\n",
       "</div>"
      ],
      "text/plain": [
       "                   t-6         t-5         t-4         t-3         t-2  \\\n",
       "           Temperature Temperature Temperature Temperature Temperature   \n",
       "Date                                                                     \n",
       "1981-01-08        17.9        18.8        14.6        15.8        15.8   \n",
       "1981-01-09        18.8        14.6        15.8        15.8        15.8   \n",
       "1981-01-10        14.6        15.8        15.8        15.8        17.4   \n",
       "1981-01-11        15.8        15.8        15.8        17.4        21.8   \n",
       "1981-01-12        15.8        15.8        17.4        21.8        20.0   \n",
       "\n",
       "                   t-1           t  \n",
       "           Temperature Temperature  \n",
       "Date                                \n",
       "1981-01-08        15.8        17.4  \n",
       "1981-01-09        17.4        21.8  \n",
       "1981-01-10        21.8        20.0  \n",
       "1981-01-11        20.0        16.2  \n",
       "1981-01-12        16.2        13.3  "
      ]
     },
     "execution_count": 9,
     "metadata": {},
     "output_type": "execute_result"
    }
   ],
   "source": [
    "X.head()"
   ]
  },
  {
   "cell_type": "code",
   "execution_count": 10,
   "metadata": {},
   "outputs": [
    {
     "data": {
      "text/html": [
       "<div>\n",
       "<style scoped>\n",
       "    .dataframe tbody tr th:only-of-type {\n",
       "        vertical-align: middle;\n",
       "    }\n",
       "\n",
       "    .dataframe tbody tr th {\n",
       "        vertical-align: top;\n",
       "    }\n",
       "\n",
       "    .dataframe thead tr th {\n",
       "        text-align: left;\n",
       "    }\n",
       "\n",
       "    .dataframe thead tr:last-of-type th {\n",
       "        text-align: right;\n",
       "    }\n",
       "</style>\n",
       "<table border=\"1\" class=\"dataframe\">\n",
       "  <thead>\n",
       "    <tr>\n",
       "      <th></th>\n",
       "      <th>t+2</th>\n",
       "    </tr>\n",
       "    <tr>\n",
       "      <th></th>\n",
       "      <th>Temperature</th>\n",
       "    </tr>\n",
       "    <tr>\n",
       "      <th>Date</th>\n",
       "      <th></th>\n",
       "    </tr>\n",
       "  </thead>\n",
       "  <tbody>\n",
       "    <tr>\n",
       "      <th>1981-01-08</th>\n",
       "      <td>20.0</td>\n",
       "    </tr>\n",
       "    <tr>\n",
       "      <th>1981-01-09</th>\n",
       "      <td>16.2</td>\n",
       "    </tr>\n",
       "    <tr>\n",
       "      <th>1981-01-10</th>\n",
       "      <td>13.3</td>\n",
       "    </tr>\n",
       "    <tr>\n",
       "      <th>1981-01-11</th>\n",
       "      <td>16.7</td>\n",
       "    </tr>\n",
       "    <tr>\n",
       "      <th>1981-01-12</th>\n",
       "      <td>21.5</td>\n",
       "    </tr>\n",
       "  </tbody>\n",
       "</table>\n",
       "</div>"
      ],
      "text/plain": [
       "                   t+2\n",
       "           Temperature\n",
       "Date                  \n",
       "1981-01-08        20.0\n",
       "1981-01-09        16.2\n",
       "1981-01-10        13.3\n",
       "1981-01-11        16.7\n",
       "1981-01-12        21.5"
      ]
     },
     "execution_count": 10,
     "metadata": {},
     "output_type": "execute_result"
    }
   ],
   "source": [
    "y.head()"
   ]
  },
  {
   "cell_type": "code",
   "execution_count": 11,
   "metadata": {},
   "outputs": [],
   "source": [
    "train_slice = slice(None, \"1988-12-28\")\n",
    "test_slice = slice(\"1989-01-01\", None)"
   ]
  },
  {
   "cell_type": "code",
   "execution_count": 12,
   "metadata": {},
   "outputs": [],
   "source": [
    "X_train, y_train = X.loc[train_slice], y.loc[train_slice]\n",
    "X_test, y_test = X.loc[test_slice], y.loc[test_slice]"
   ]
  },
  {
   "cell_type": "code",
   "execution_count": 13,
   "metadata": {
    "scrolled": true
   },
   "outputs": [
    {
     "name": "stdout",
     "output_type": "stream",
     "text": [
      "<class 'pandas.core.frame.DataFrame'>\n",
      "DatetimeIndex: 2911 entries, 1981-01-08 to 1988-12-28\n",
      "Data columns (total 7 columns):\n",
      "(t-6, Temperature)    2911 non-null float64\n",
      "(t-5, Temperature)    2911 non-null float64\n",
      "(t-4, Temperature)    2911 non-null float64\n",
      "(t-3, Temperature)    2911 non-null float64\n",
      "(t-2, Temperature)    2911 non-null float64\n",
      "(t-1, Temperature)    2911 non-null float64\n",
      "(t, Temperature)      2911 non-null float64\n",
      "dtypes: float64(7)\n",
      "memory usage: 181.9 KB\n",
      "None\n"
     ]
    }
   ],
   "source": [
    "print(X_train.info())"
   ]
  },
  {
   "cell_type": "code",
   "execution_count": 14,
   "metadata": {},
   "outputs": [
    {
     "name": "stdout",
     "output_type": "stream",
     "text": [
      "<class 'pandas.core.frame.DataFrame'>\n",
      "DatetimeIndex: 728 entries, 1989-01-01 to 1990-12-29\n",
      "Data columns (total 7 columns):\n",
      "(t-6, Temperature)    728 non-null float64\n",
      "(t-5, Temperature)    728 non-null float64\n",
      "(t-4, Temperature)    728 non-null float64\n",
      "(t-3, Temperature)    728 non-null float64\n",
      "(t-2, Temperature)    728 non-null float64\n",
      "(t-1, Temperature)    728 non-null float64\n",
      "(t, Temperature)      728 non-null float64\n",
      "dtypes: float64(7)\n",
      "memory usage: 45.5 KB\n",
      "None\n"
     ]
    }
   ],
   "source": [
    "print(X_test.info())"
   ]
  },
  {
   "cell_type": "code",
   "execution_count": 15,
   "metadata": {},
   "outputs": [],
   "source": [
    "# RNN needs the input to be 3D\n",
    "\n",
    "X_train_3D = convert3D(X_train)\n",
    "X_test_3D = convert3D(X_test)"
   ]
  },
  {
   "cell_type": "code",
   "execution_count": 16,
   "metadata": {},
   "outputs": [
    {
     "name": "stdout",
     "output_type": "stream",
     "text": [
      "(2911, 7, 1) (728, 7, 1)\n"
     ]
    }
   ],
   "source": [
    "print(X_train_3D.shape, X_test_3D.shape)"
   ]
  },
  {
   "cell_type": "markdown",
   "metadata": {},
   "source": [
    "## Simple RNN"
   ]
  },
  {
   "cell_type": "code",
   "execution_count": 17,
   "metadata": {},
   "outputs": [
    {
     "name": "stdout",
     "output_type": "stream",
     "text": [
      "_________________________________________________________________\n",
      "Layer (type)                 Output Shape              Param #   \n",
      "=================================================================\n",
      "simple_rnn (SimpleRNN)       (None, 7, 50)             2600      \n",
      "_________________________________________________________________\n",
      "simple_rnn_1 (SimpleRNN)     (None, 25)                1900      \n",
      "_________________________________________________________________\n",
      "dense (Dense)                (None, 1)                 26        \n",
      "=================================================================\n",
      "Total params: 4,526\n",
      "Trainable params: 4,526\n",
      "Non-trainable params: 0\n",
      "_________________________________________________________________\n"
     ]
    }
   ],
   "source": [
    "model_simpleRNN = keras.models.Sequential()\n",
    "model_simpleRNN.add(keras.layers.SimpleRNN(50, return_sequences=True, input_shape=(7,1)))\n",
    "model_simpleRNN.add(keras.layers.SimpleRNN(25))\n",
    "model_simpleRNN.add(keras.layers.Dense(1))\n",
    "\n",
    "model_simpleRNN.compile(loss=\"mse\", optimizer=\"adam\", metrics=[\"mae\"])\n",
    "model_simpleRNN.summary()"
   ]
  },
  {
   "cell_type": "code",
   "execution_count": 18,
   "metadata": {
    "scrolled": false
   },
   "outputs": [
    {
     "name": "stdout",
     "output_type": "stream",
     "text": [
      "Train on 2619 samples, validate on 292 samples\n",
      "Epoch 1/20\n",
      "2619/2619 [==============================] - 2s 629us/step - loss: 56.7300 - mean_absolute_error: 6.3038 - val_loss: 26.7018 - val_mean_absolute_error: 4.1961\n",
      "Epoch 2/20\n",
      "2619/2619 [==============================] - 1s 328us/step - loss: 24.0749 - mean_absolute_error: 3.8939 - val_loss: 15.5311 - val_mean_absolute_error: 3.1215\n",
      "Epoch 3/20\n",
      "2619/2619 [==============================] - 1s 336us/step - loss: 16.2628 - mean_absolute_error: 3.1433 - val_loss: 11.4491 - val_mean_absolute_error: 2.6855\n",
      "Epoch 4/20\n",
      "2619/2619 [==============================] - 1s 317us/step - loss: 12.3776 - mean_absolute_error: 2.7098 - val_loss: 9.7277 - val_mean_absolute_error: 2.4559\n",
      "Epoch 5/20\n",
      "2619/2619 [==============================] - 1s 316us/step - loss: 10.5749 - mean_absolute_error: 2.4970 - val_loss: 9.3293 - val_mean_absolute_error: 2.4198\n",
      "Epoch 6/20\n",
      "2619/2619 [==============================] - 1s 321us/step - loss: 9.7531 - mean_absolute_error: 2.4055 - val_loss: 9.0691 - val_mean_absolute_error: 2.3843\n",
      "Epoch 7/20\n",
      "2619/2619 [==============================] - 1s 324us/step - loss: 9.4277 - mean_absolute_error: 2.3670 - val_loss: 9.6367 - val_mean_absolute_error: 2.4523\n",
      "Epoch 8/20\n",
      "2619/2619 [==============================] - 1s 316us/step - loss: 9.1404 - mean_absolute_error: 2.3427 - val_loss: 8.5186 - val_mean_absolute_error: 2.2939\n",
      "Epoch 9/20\n",
      "2619/2619 [==============================] - 1s 318us/step - loss: 8.9116 - mean_absolute_error: 2.3093 - val_loss: 8.3242 - val_mean_absolute_error: 2.2689\n",
      "Epoch 10/20\n",
      "2619/2619 [==============================] - 1s 318us/step - loss: 8.7715 - mean_absolute_error: 2.2867 - val_loss: 8.5404 - val_mean_absolute_error: 2.3069\n",
      "Epoch 11/20\n",
      "2619/2619 [==============================] - 1s 320us/step - loss: 8.7832 - mean_absolute_error: 2.2869 - val_loss: 8.3383 - val_mean_absolute_error: 2.2726\n",
      "Epoch 12/20\n",
      "2619/2619 [==============================] - 1s 328us/step - loss: 8.6953 - mean_absolute_error: 2.2844 - val_loss: 8.1802 - val_mean_absolute_error: 2.2442\n",
      "Epoch 13/20\n",
      "2619/2619 [==============================] - 1s 319us/step - loss: 8.6448 - mean_absolute_error: 2.2729 - val_loss: 8.2654 - val_mean_absolute_error: 2.2282\n",
      "Epoch 14/20\n",
      "2619/2619 [==============================] - 1s 334us/step - loss: 8.6837 - mean_absolute_error: 2.2856 - val_loss: 8.1957 - val_mean_absolute_error: 2.2332\n",
      "Epoch 15/20\n",
      "2619/2619 [==============================] - 1s 351us/step - loss: 8.5268 - mean_absolute_error: 2.2667 - val_loss: 8.3018 - val_mean_absolute_error: 2.2632\n",
      "Epoch 16/20\n",
      "2619/2619 [==============================] - 1s 394us/step - loss: 8.5300 - mean_absolute_error: 2.2584 - val_loss: 8.2480 - val_mean_absolute_error: 2.2227\n",
      "Epoch 17/20\n",
      "2619/2619 [==============================] - 1s 329us/step - loss: 8.5655 - mean_absolute_error: 2.2654 - val_loss: 8.0696 - val_mean_absolute_error: 2.2290\n",
      "Epoch 18/20\n",
      "2619/2619 [==============================] - 1s 332us/step - loss: 8.5653 - mean_absolute_error: 2.2691 - val_loss: 8.2037 - val_mean_absolute_error: 2.2654\n",
      "Epoch 19/20\n",
      "2619/2619 [==============================] - 1s 334us/step - loss: 8.4976 - mean_absolute_error: 2.2501 - val_loss: 8.2667 - val_mean_absolute_error: 2.2606\n",
      "Epoch 20/20\n",
      "2619/2619 [==============================] - 1s 365us/step - loss: 8.4667 - mean_absolute_error: 2.2562 - val_loss: 7.9179 - val_mean_absolute_error: 2.2014\n"
     ]
    }
   ],
   "source": [
    "history_simpleRNN = model_simpleRNN.fit(X_train_3D, y_train, epochs=20, \n",
    "                                        batch_size=20, validation_split=0.1)"
   ]
  },
  {
   "cell_type": "code",
   "execution_count": 19,
   "metadata": {},
   "outputs": [
    {
     "data": {
      "image/png": "[encoded data removed]",
      "text/plain": [
       "<Figure size 432x288 with 1 Axes>"
      ]
     },
     "metadata": {
      "needs_background": "light"
     },
     "output_type": "display_data"
    }
   ],
   "source": [
    "pd.DataFrame(history_simpleRNN.history).plot()\n",
    "plt.xlabel(\"epochs\")\n",
    "plt.ylabel(\"loss\")\n",
    "plt.grid(True)\n",
    "plt.show()"
   ]
  },
  {
   "cell_type": "markdown",
   "metadata": {},
   "source": [
    "## LSTM"
   ]
  },
  {
   "cell_type": "code",
   "execution_count": 20,
   "metadata": {},
   "outputs": [
    {
     "name": "stdout",
     "output_type": "stream",
     "text": [
      "_________________________________________________________________\n",
      "Layer (type)                 Output Shape              Param #   \n",
      "=================================================================\n",
      "lstm (LSTM)                  (None, 7, 50)             10400     \n",
      "_________________________________________________________________\n",
      "lstm_1 (LSTM)                (None, 25)                7600      \n",
      "_________________________________________________________________\n",
      "dense_1 (Dense)              (None, 1)                 26        \n",
      "=================================================================\n",
      "Total params: 18,026\n",
      "Trainable params: 18,026\n",
      "Non-trainable params: 0\n",
      "_________________________________________________________________\n"
     ]
    }
   ],
   "source": [
    "model_LSTM = keras.models.Sequential()\n",
    "model_LSTM.add(keras.layers.LSTM(50, return_sequences=True, input_shape=(7,1)))\n",
    "model_LSTM.add(keras.layers.LSTM(25))\n",
    "model_LSTM.add(keras.layers.Dense(1))\n",
    "\n",
    "model_LSTM.compile(loss=\"mse\", optimizer=\"adam\", metrics=[\"mae\"])\n",
    "model_LSTM.summary()"
   ]
  },
  {
   "cell_type": "code",
   "execution_count": 21,
   "metadata": {},
   "outputs": [
    {
     "name": "stdout",
     "output_type": "stream",
     "text": [
      "Train on 2619 samples, validate on 292 samples\n",
      "Epoch 1/20\n",
      "2619/2619 [==============================] - 3s 1ms/step - loss: 38.7522 - mean_absolute_error: 4.8982 - val_loss: 13.0859 - val_mean_absolute_error: 2.9217\n",
      "Epoch 2/20\n",
      "2619/2619 [==============================] - 2s 847us/step - loss: 16.9482 - mean_absolute_error: 3.2878 - val_loss: 12.4134 - val_mean_absolute_error: 2.8724\n",
      "Epoch 3/20\n",
      "2619/2619 [==============================] - 2s 850us/step - loss: 16.7221 - mean_absolute_error: 3.2675 - val_loss: 11.8585 - val_mean_absolute_error: 2.7989\n",
      "Epoch 4/20\n",
      "2619/2619 [==============================] - 2s 856us/step - loss: 13.0102 - mean_absolute_error: 2.7995 - val_loss: 9.9692 - val_mean_absolute_error: 2.5154\n",
      "Epoch 5/20\n",
      "2619/2619 [==============================] - 2s 857us/step - loss: 9.9591 - mean_absolute_error: 2.4371 - val_loss: 8.5871 - val_mean_absolute_error: 2.3219\n",
      "Epoch 6/20\n",
      "2619/2619 [==============================] - 2s 856us/step - loss: 9.2158 - mean_absolute_error: 2.3445 - val_loss: 8.0988 - val_mean_absolute_error: 2.2250\n",
      "Epoch 7/20\n",
      "2619/2619 [==============================] - 2s 857us/step - loss: 8.9310 - mean_absolute_error: 2.3242 - val_loss: 7.9205 - val_mean_absolute_error: 2.2019\n",
      "Epoch 8/20\n",
      "2619/2619 [==============================] - 2s 851us/step - loss: 8.7436 - mean_absolute_error: 2.2912 - val_loss: 7.8725 - val_mean_absolute_error: 2.1887\n",
      "Epoch 9/20\n",
      "2619/2619 [==============================] - 2s 863us/step - loss: 8.6545 - mean_absolute_error: 2.2806 - val_loss: 8.0172 - val_mean_absolute_error: 2.2081\n",
      "Epoch 10/20\n",
      "2619/2619 [==============================] - 2s 852us/step - loss: 8.6152 - mean_absolute_error: 2.2775 - val_loss: 7.9137 - val_mean_absolute_error: 2.1968\n",
      "Epoch 11/20\n",
      "2619/2619 [==============================] - 2s 851us/step - loss: 8.5893 - mean_absolute_error: 2.2837 - val_loss: 7.8145 - val_mean_absolute_error: 2.1777\n",
      "Epoch 12/20\n",
      "2619/2619 [==============================] - 2s 859us/step - loss: 8.5172 - mean_absolute_error: 2.2644 - val_loss: 7.9344 - val_mean_absolute_error: 2.1935\n",
      "Epoch 13/20\n",
      "2619/2619 [==============================] - 2s 924us/step - loss: 8.5328 - mean_absolute_error: 2.2642 - val_loss: 8.1177 - val_mean_absolute_error: 2.2257\n",
      "Epoch 14/20\n",
      "2619/2619 [==============================] - 2s 867us/step - loss: 8.5283 - mean_absolute_error: 2.2677 - val_loss: 7.8220 - val_mean_absolute_error: 2.1745\n",
      "Epoch 15/20\n",
      "2619/2619 [==============================] - 2s 856us/step - loss: 8.4246 - mean_absolute_error: 2.2553 - val_loss: 7.9222 - val_mean_absolute_error: 2.1957\n",
      "Epoch 16/20\n",
      "2619/2619 [==============================] - 2s 851us/step - loss: 8.5304 - mean_absolute_error: 2.2735 - val_loss: 8.5646 - val_mean_absolute_error: 2.3024\n",
      "Epoch 17/20\n",
      "2619/2619 [==============================] - 2s 872us/step - loss: 8.4723 - mean_absolute_error: 2.2737 - val_loss: 8.1672 - val_mean_absolute_error: 2.2337\n",
      "Epoch 18/20\n",
      "2619/2619 [==============================] - 2s 841us/step - loss: 8.4004 - mean_absolute_error: 2.2515 - val_loss: 8.1592 - val_mean_absolute_error: 2.2018\n",
      "Epoch 19/20\n",
      "2619/2619 [==============================] - 2s 851us/step - loss: 8.4164 - mean_absolute_error: 2.2524 - val_loss: 7.8339 - val_mean_absolute_error: 2.1780\n",
      "Epoch 20/20\n",
      "2619/2619 [==============================] - 2s 845us/step - loss: 8.4181 - mean_absolute_error: 2.2617 - val_loss: 7.9313 - val_mean_absolute_error: 2.1966\n"
     ]
    }
   ],
   "source": [
    "history_LSTM = model_LSTM.fit(X_train_3D, y_train, epochs=20, \n",
    "                                        batch_size=20, validation_split=0.1)"
   ]
  },
  {
   "cell_type": "code",
   "execution_count": 22,
   "metadata": {},
   "outputs": [
    {
     "data": {
      "image/png": "[encoded data removed]",
      "text/plain": [
       "<Figure size 432x288 with 1 Axes>"
      ]
     },
     "metadata": {
      "needs_background": "light"
     },
     "output_type": "display_data"
    }
   ],
   "source": [
    "pd.DataFrame(history_LSTM.history).plot()\n",
    "plt.xlabel(\"epochs\")\n",
    "plt.ylabel(\"loss\")\n",
    "plt.grid(True)\n",
    "plt.show()"
   ]
  },
  {
   "cell_type": "markdown",
   "metadata": {},
   "source": [
    "# GRU"
   ]
  },
  {
   "cell_type": "code",
   "execution_count": 23,
   "metadata": {},
   "outputs": [
    {
     "name": "stdout",
     "output_type": "stream",
     "text": [
      "_________________________________________________________________\n",
      "Layer (type)                 Output Shape              Param #   \n",
      "=================================================================\n",
      "gru (GRU)                    (None, 7, 50)             7800      \n",
      "_________________________________________________________________\n",
      "gru_1 (GRU)                  (None, 25)                5700      \n",
      "_________________________________________________________________\n",
      "dense_2 (Dense)              (None, 1)                 26        \n",
      "=================================================================\n",
      "Total params: 13,526\n",
      "Trainable params: 13,526\n",
      "Non-trainable params: 0\n",
      "_________________________________________________________________\n"
     ]
    }
   ],
   "source": [
    "model_GRU = keras.models.Sequential()\n",
    "model_GRU.add(keras.layers.GRU(50, return_sequences=True, input_shape=(7,1)))\n",
    "model_GRU.add(keras.layers.GRU(25))\n",
    "model_GRU.add(keras.layers.Dense(1))\n",
    "\n",
    "model_GRU.compile(loss=\"mse\", optimizer=\"adam\", metrics=[\"mae\"])\n",
    "model_GRU.summary()"
   ]
  },
  {
   "cell_type": "code",
   "execution_count": 24,
   "metadata": {},
   "outputs": [
    {
     "name": "stdout",
     "output_type": "stream",
     "text": [
      "Train on 2619 samples, validate on 292 samples\n",
      "Epoch 1/20\n",
      "2619/2619 [==============================] - 3s 1ms/step - loss: 44.5835 - mean_absolute_error: 5.4337 - val_loss: 19.7020 - val_mean_absolute_error: 3.5129\n",
      "Epoch 2/20\n",
      "2619/2619 [==============================] - 2s 738us/step - loss: 19.5854 - mean_absolute_error: 3.5044 - val_loss: 13.2052 - val_mean_absolute_error: 2.9257\n",
      "Epoch 3/20\n",
      "2619/2619 [==============================] - 2s 714us/step - loss: 14.5543 - mean_absolute_error: 2.9746 - val_loss: 10.2957 - val_mean_absolute_error: 2.5470\n",
      "Epoch 4/20\n",
      "2619/2619 [==============================] - 2s 730us/step - loss: 11.1002 - mean_absolute_error: 2.5655 - val_loss: 9.1969 - val_mean_absolute_error: 2.4093\n",
      "Epoch 5/20\n",
      "2619/2619 [==============================] - 2s 734us/step - loss: 9.7777 - mean_absolute_error: 2.4191 - val_loss: 8.4522 - val_mean_absolute_error: 2.3005\n",
      "Epoch 6/20\n",
      "2619/2619 [==============================] - 2s 721us/step - loss: 9.1715 - mean_absolute_error: 2.3456 - val_loss: 8.5251 - val_mean_absolute_error: 2.3030\n",
      "Epoch 7/20\n",
      "2619/2619 [==============================] - 2s 707us/step - loss: 8.9299 - mean_absolute_error: 2.3172 - val_loss: 8.4329 - val_mean_absolute_error: 2.2903\n",
      "Epoch 8/20\n",
      "2619/2619 [==============================] - 2s 706us/step - loss: 8.7784 - mean_absolute_error: 2.2961 - val_loss: 8.3162 - val_mean_absolute_error: 2.2608\n",
      "Epoch 9/20\n",
      "2619/2619 [==============================] - 2s 704us/step - loss: 8.6983 - mean_absolute_error: 2.2830 - val_loss: 7.9013 - val_mean_absolute_error: 2.1848\n",
      "Epoch 10/20\n",
      "2619/2619 [==============================] - 2s 706us/step - loss: 8.6612 - mean_absolute_error: 2.2798 - val_loss: 7.9363 - val_mean_absolute_error: 2.1888\n",
      "Epoch 11/20\n",
      "2619/2619 [==============================] - 2s 706us/step - loss: 8.5760 - mean_absolute_error: 2.2731 - val_loss: 8.0378 - val_mean_absolute_error: 2.2026\n",
      "Epoch 12/20\n",
      "2619/2619 [==============================] - 2s 706us/step - loss: 8.6044 - mean_absolute_error: 2.2705 - val_loss: 7.8568 - val_mean_absolute_error: 2.1799\n",
      "Epoch 13/20\n",
      "2619/2619 [==============================] - 2s 706us/step - loss: 8.5565 - mean_absolute_error: 2.2705 - val_loss: 7.7695 - val_mean_absolute_error: 2.1607\n",
      "Epoch 14/20\n",
      "2619/2619 [==============================] - 2s 704us/step - loss: 8.4816 - mean_absolute_error: 2.2481 - val_loss: 8.0191 - val_mean_absolute_error: 2.2008\n",
      "Epoch 15/20\n",
      "2619/2619 [==============================] - 2s 705us/step - loss: 8.4275 - mean_absolute_error: 2.2494 - val_loss: 7.9504 - val_mean_absolute_error: 2.1930\n",
      "Epoch 16/20\n",
      "2619/2619 [==============================] - 2s 759us/step - loss: 8.4447 - mean_absolute_error: 2.2564 - val_loss: 7.8809 - val_mean_absolute_error: 2.1846\n",
      "Epoch 17/20\n",
      "2619/2619 [==============================] - 2s 708us/step - loss: 8.3538 - mean_absolute_error: 2.2411 - val_loss: 8.3035 - val_mean_absolute_error: 2.2532\n",
      "Epoch 18/20\n",
      "2619/2619 [==============================] - 2s 710us/step - loss: 8.4186 - mean_absolute_error: 2.2490 - val_loss: 8.0394 - val_mean_absolute_error: 2.1989\n",
      "Epoch 19/20\n",
      "2619/2619 [==============================] - 2s 710us/step - loss: 8.3298 - mean_absolute_error: 2.2430 - val_loss: 8.1520 - val_mean_absolute_error: 2.1995\n",
      "Epoch 20/20\n",
      "2619/2619 [==============================] - 2s 711us/step - loss: 8.3344 - mean_absolute_error: 2.2405 - val_loss: 7.9317 - val_mean_absolute_error: 2.1824\n"
     ]
    }
   ],
   "source": [
    "history_GRU = model_GRU.fit(X_train_3D, y_train, epochs=20, \n",
    "                                        batch_size=20, validation_split=0.1)"
   ]
  },
  {
   "cell_type": "code",
   "execution_count": 25,
   "metadata": {},
   "outputs": [
    {
     "data": {
      "image/png": "[encoded data removed]",
      "text/plain": [
       "<Figure size 432x288 with 1 Axes>"
      ]
     },
     "metadata": {
      "needs_background": "light"
     },
     "output_type": "display_data"
    }
   ],
   "source": [
    "pd.DataFrame(history_GRU.history).plot()\n",
    "plt.xlabel(\"epochs\")\n",
    "plt.ylabel(\"loss\")\n",
    "plt.grid(True)\n",
    "plt.show()"
   ]
  },
  {
   "cell_type": "markdown",
   "metadata": {},
   "source": [
    "# Results of all different versions of RNN"
   ]
  },
  {
   "cell_type": "code",
   "execution_count": 26,
   "metadata": {},
   "outputs": [
    {
     "name": "stdout",
     "output_type": "stream",
     "text": [
      "728/728 [==============================] - 0s 120us/step\n",
      "728/728 [==============================] - 0s 200us/step\n",
      "728/728 [==============================] - 0s 171us/step\n"
     ]
    }
   ],
   "source": [
    "mae_simpleRNN = model_simpleRNN.evaluate(X_test_3D, y_test)\n",
    "mae_LSTM = model_LSTM.evaluate(X_test_3D, y_test)\n",
    "mae_GRU = model_GRU.evaluate(X_test_3D, y_test)"
   ]
  },
  {
   "cell_type": "code",
   "execution_count": 27,
   "metadata": {},
   "outputs": [
    {
     "name": "stdout",
     "output_type": "stream",
     "text": [
      "mae_simpleRNN:  [7.0160326066907945, 2.079242238631615]\n",
      "mae_LSTM:  [6.918382204495943, 2.0482301463137618]\n",
      "mae_GRU:  [6.853987279829088, 2.0467891169118357]\n"
     ]
    }
   ],
   "source": [
    "print(\"mae_simpleRNN: \", mae_simpleRNN)\n",
    "print(\"mae_LSTM: \", mae_LSTM)\n",
    "print(\"mae_GRU: \", mae_GRU)"
   ]
  }
 ],
 "metadata": {
  "kernelspec": {
   "display_name": "Python 3",
   "language": "python",
   "name": "python3"
  },
  "language_info": {
   "codemirror_mode": {
    "name": "ipython",
    "version": 3
   },
   "file_extension": ".py",
   "mimetype": "text/x-python",
   "name": "python",
   "nbconvert_exporter": "python",
   "pygments_lexer": "ipython3",
   "version": "3.6.7"
  }
 },
 "nbformat": 4,
 "nbformat_minor": 2
}
